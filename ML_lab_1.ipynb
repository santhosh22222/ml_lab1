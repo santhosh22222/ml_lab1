{
  "nbformat": 4,
  "nbformat_minor": 0,
  "metadata": {
    "colab": {
      "provenance": []
    },
    "kernelspec": {
      "name": "python3",
      "display_name": "Python 3"
    },
    "language_info": {
      "name": "python"
    }
  },
  "cells": [
    {
      "cell_type": "code",
      "execution_count": null,
      "metadata": {
        "colab": {
          "base_uri": "https://localhost:8080/"
        },
        "id": "IGhPjhMU9W8N",
        "outputId": "fc8a633d-8989-4dea-8b48-4cb17c7d540a"
      },
      "outputs": [
        {
          "output_type": "stream",
          "name": "stdout",
          "text": [
            "the number of pairs with sum = 10 are\n",
            "2\n"
          ]
        }
      ],
      "source": [
        "def fun():\n",
        "    a = [2,7,4,1,3,6]\n",
        "    b = []\n",
        "    for x in range (0,6):\n",
        "        for y in range (x+1,6):\n",
        "            if(a[x]+a[y]==10):\n",
        "                b.append(a[x])\n",
        "                b.append(a[y])\n",
        "    return b\n",
        "\n",
        "\n",
        "answer = []\n",
        "answer = fun()\n",
        "print(\"the number of pairs with sum = 10 are\")\n",
        "print(int(len(answer)/2))"
      ]
    },
    {
      "cell_type": "code",
      "source": [
        "def rng(lst, n):\n",
        "    if n < 3:\n",
        "        return False\n",
        "\n",
        "    min = lst[0]\n",
        "    max = lst[0]\n",
        "\n",
        "\n",
        "    for x in range(1, n):\n",
        "        if (lst[x] < min):\n",
        "            min = lst[x]\n",
        "\n",
        "\n",
        "    for y in range(1, n):\n",
        "        if (lst[y] > max):\n",
        "            max = lst[y]\n",
        "\n",
        "\n",
        "    m = max - min\n",
        "    return m\n",
        "\n",
        "\n",
        "lst = []\n",
        "n = int(input(\"Enter number of elements: \"))\n",
        "for p in range(0,n):\n",
        "    ele = int(input())\n",
        "    lst.append(ele)\n",
        "\n",
        "\n",
        "result = rng(lst, n)\n",
        "if result is False:\n",
        "    print(\"Not enough elements to calculate range.\")\n",
        "else:\n",
        "    print(\"Range:\", result)"
      ],
      "metadata": {
        "id": "8S5D62HB9cU2",
        "colab": {
          "base_uri": "https://localhost:8080/"
        },
        "outputId": "b4c6ec40-08e9-49f6-dcaf-3b46ff5d2f9b"
      },
      "execution_count": 1,
      "outputs": [
        {
          "output_type": "stream",
          "name": "stdout",
          "text": [
            "Enter number of elements: 6\n",
            "5\n",
            "3\n",
            "1\n",
            "0\n",
            "8\n",
            "2\n",
            "Range: 8\n"
          ]
        }
      ]
    },
    {
      "cell_type": "code",
      "source": [
        "def matrix_multi(A, B):\n",
        "    n=len(A)\n",
        "    r=[[0]*n for _ in range(n)]\n",
        "    for i in range(n):\n",
        "        for j in range(n):\n",
        "            for k in range(n):\n",
        "                r[i][j]+=A[i][k]*B[k][j]\n",
        "    return r\n",
        "\n",
        "\n",
        "def power(A,m):\n",
        "    r=A\n",
        "    for _ in range(m - 1):\n",
        "        r=matrix_multi(r, A)\n",
        "    return r\n",
        "\n",
        "\n",
        "\n",
        "A=[[4, 7, 2], [5, 3, 2], [9, 4, 5]]\n",
        "m=int(input(\"enter value of m\"))\n",
        "r=power(A, m)\n",
        "\n",
        "print(\"A^m=\")\n",
        "for i in r:\n",
        "    print(i)"
      ],
      "metadata": {
        "id": "2vMMET9g9lmj",
        "colab": {
          "base_uri": "https://localhost:8080/"
        },
        "outputId": "0ad92c4c-3345-474f-f81b-c79bc2a5d31a"
      },
      "execution_count": 2,
      "outputs": [
        {
          "output_type": "stream",
          "name": "stdout",
          "text": [
            "enter value of m3\n",
            "A^m=\n",
            "[849, 782, 412]\n",
            "[706, 631, 340]\n",
            "[1338, 1196, 647]\n"
          ]
        }
      ]
    },
    {
      "cell_type": "code",
      "source": [
        "\n",
        "def highest_occurrence_char(input_string):\n",
        "\n",
        "    count_dict = {}\n",
        "\n",
        "\n",
        "    for char in input_string:\n",
        "\n",
        "        if char.isalpha():\n",
        "\n",
        "            char = char.lower()\n",
        "\n",
        "            if char in count_dict:\n",
        "                count_dict[char] += 1\n",
        "            else:\n",
        "                count_dict[char] = 1\n",
        "\n",
        "\n",
        "    max_char = ''\n",
        "    max_count = 0\n",
        "\n",
        "\n",
        "    for char, count in count_dict.items():\n",
        "        if count > max_count:\n",
        "            max_char = char\n",
        "            max_count = count\n",
        "\n",
        "    return max_char, max_count\n",
        "\n",
        "\n",
        "input_string = input(\"Enter a string: \")\n",
        "\n",
        "\n",
        "max_char, max_count = highest_occurrence_char(input_string)\n",
        "\n",
        "\n",
        "print(f\"The maximally occurring character is '{max_char}' & occurrence count is {max_count}.\")"
      ],
      "metadata": {
        "id": "ERK9Z3uH9zkz",
        "colab": {
          "base_uri": "https://localhost:8080/"
        },
        "outputId": "823b7a04-420b-4042-d183-a91d79f7b6ed"
      },
      "execution_count": 4,
      "outputs": [
        {
          "output_type": "stream",
          "name": "stdout",
          "text": [
            "Enter a string: hippopotamus\n",
            "The maximally occurring character is 'p' & occurrence count is 3.\n"
          ]
        }
      ]
    }
  ]
}