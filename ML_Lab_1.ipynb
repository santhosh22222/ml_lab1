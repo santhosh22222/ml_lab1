{
  "nbformat": 4,
  "nbformat_minor": 0,
  "metadata": {
    "colab": {
      "provenance": []
    },
    "kernelspec": {
      "name": "python3",
      "display_name": "Python 3"
    },
    "language_info": {
      "name": "python"
    }
  },
  "cells": [
    {
      "cell_type": "code",
      "execution_count": 1,
      "metadata": {
        "colab": {
          "base_uri": "https://localhost:8080/"
        },
        "id": "Uh-tnrI44xh9",
        "outputId": "30b72ba0-3d5d-4e5b-b2a3-c7201efab17f"
      },
      "outputs": [
        {
          "output_type": "stream",
          "name": "stdout",
          "text": [
            "Enter a string santhosh\n",
            "Number of vowels :  2\n",
            "Number of consonants :  6\n"
          ]
        }
      ],
      "source": [
        "#Question 1\n",
        "def count(s):\n",
        "    v = 0\n",
        "    c = 0\n",
        "    for i in s:\n",
        "        if i in ['a','e','i','o','u']:\n",
        "            v = v+1\n",
        "        else:\n",
        "            c = c+1\n",
        "    return v,c\n",
        "\n",
        "s = input(\"Enter a string \")\n",
        "v,c = (count(s))\n",
        "print(\"Number of vowels : \",v)\n",
        "print('Number of consonants : ',c)"
      ]
    },
    {
      "cell_type": "code",
      "source": [
        "#Question2\n",
        "def mult():\n",
        "\n",
        "    r1 = int(input('Enter number of rows for m1: '))\n",
        "    c1 = int(input('Enter number of columns for m1: '))\n",
        "    r2 = int(input('Enter number of rows for m2: '))\n",
        "    c2 = int(input('Enter number of columns for m2: '))\n",
        "\n",
        "    if c1 != r2:\n",
        "        print(\"Error: Number of columns of m1 must be equal to number of rows of m2\")\n",
        "        return\n",
        "\n",
        "    print(\"Enter elements for matrix m1:\")\n",
        "    m1 = []\n",
        "    for i in range(r1):\n",
        "        a = []\n",
        "        for j in range(c1):\n",
        "            v = int(input())\n",
        "            a.append(v)\n",
        "        m1.append(a)\n",
        "\n",
        "    print(\"Enter elements for matrix m2:\")\n",
        "    m2 = []\n",
        "    for i in range(r2):\n",
        "        row = []\n",
        "        for j in range(c2):\n",
        "            v = int(input())\n",
        "            row.append(v)\n",
        "        m2.append(row)\n",
        "\n",
        "    result = [[0 for _ in range(c2)] for _ in range(r1)]\n",
        "\n",
        "    for i in range(r1):\n",
        "        for j in range(c2):\n",
        "            sum = 0\n",
        "            for k in range(c1):\n",
        "                sum += m1[i][k] * m2[k][j]\n",
        "            result[i][j] = sum\n",
        "\n",
        "    print(\"Result of matrix multiplication:\")\n",
        "    for row in result:\n",
        "        print(row)\n",
        "\n",
        "mult()"
      ],
      "metadata": {
        "colab": {
          "base_uri": "https://localhost:8080/"
        },
        "id": "IcsuCjh55FBC",
        "outputId": "f603704c-272c-46ba-a677-fa7bfde69b3e"
      },
      "execution_count": 2,
      "outputs": [
        {
          "output_type": "stream",
          "name": "stdout",
          "text": [
            "Enter number of rows for m1: 3\n",
            "Enter number of columns for m1: 3\n",
            "Enter number of rows for m2: 2\n",
            "Enter number of columns for m2: 2\n",
            "Error: Number of columns of m1 must be equal to number of rows of m2\n"
          ]
        }
      ]
    },
    {
      "cell_type": "code",
      "source": [
        "#Question 3\n",
        "def common():\n",
        "    l1 = []\n",
        "    l2 = []\n",
        "    s1 = int(input(\"Enter size of list 1\"))\n",
        "    s2 = int(input('Enter size of list 2'))\n",
        "\n",
        "    for i in range(s1):\n",
        "        v = int(input())\n",
        "        l1.append(v)\n",
        "\n",
        "    for i in range(s2):\n",
        "        v = int(input())\n",
        "        l2.append(v)\n",
        "\n",
        "    l3 = []\n",
        "    for i in l1:\n",
        "        if i in l2:\n",
        "            l3.append(i)\n",
        "\n",
        "    return l3\n",
        "\n",
        "print('The common elements are : ',common())"
      ],
      "metadata": {
        "colab": {
          "base_uri": "https://localhost:8080/"
        },
        "id": "vpN0oLWf5L6a",
        "outputId": "2b66d7e5-09e2-4aa8-d64c-44ec5c9be9fa"
      },
      "execution_count": 3,
      "outputs": [
        {
          "output_type": "stream",
          "name": "stdout",
          "text": [
            "Enter size of list 13\n",
            "Enter size of list 24\n",
            "1\n",
            "2\n",
            "3\n",
            "4\n",
            "4\n",
            "2\n",
            "6\n",
            "The common elements are :  [2]\n"
          ]
        }
      ]
    },
    {
      "cell_type": "code",
      "source": [
        "#Question 4\n",
        "def transpose():\n",
        "    r = int(input('Enter number of rows'))\n",
        "    c = int(input('Enter number of columns'))\n",
        "    m = []\n",
        "    for i in range(r):\n",
        "        a = []\n",
        "        for j in range(c):\n",
        "            v = int(input())\n",
        "            a.append(v)\n",
        "        m.append(a)\n",
        "    print(m)\n",
        "\n",
        "    t = [[m[i][j] for i in range(r)]for j in range(c)]\n",
        "    for i in range(r):\n",
        "        for j in range(c):\n",
        "            if i != j:\n",
        "                t[i][j]=m[j][i]\n",
        "    return t\n",
        "\n",
        "print(transpose())"
      ],
      "metadata": {
        "colab": {
          "base_uri": "https://localhost:8080/"
        },
        "id": "yS2ZIRr35Qai",
        "outputId": "d4a68d1e-bf62-4c93-b367-8f4c832794ad"
      },
      "execution_count": 5,
      "outputs": [
        {
          "output_type": "stream",
          "name": "stdout",
          "text": [
            "Enter number of rows3\n",
            "Enter number of columns3\n",
            "1\n",
            "2\n",
            "3\n",
            "4\n",
            "5\n",
            "6\n",
            "7\n",
            "8\n",
            "9\n",
            "[[1, 2, 3], [4, 5, 6], [7, 8, 9]]\n",
            "[[1, 4, 7], [2, 5, 8], [3, 6, 9]]\n"
          ]
        }
      ]
    }
  ]
}