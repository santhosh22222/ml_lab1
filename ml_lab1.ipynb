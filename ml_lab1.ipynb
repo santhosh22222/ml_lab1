{
  "nbformat": 4,
  "nbformat_minor": 0,
  "metadata": {
    "colab": {
      "provenance": []
    },
    "kernelspec": {
      "name": "python3",
      "display_name": "Python 3"
    },
    "language_info": {
      "name": "python"
    }
  },
  "cells": [
    {
      "cell_type": "code",
      "source": [
        "s=input(\"Please Enter Your Own String: \")\n",
        "n=len(s)\n",
        "count1=0\n",
        "count2=0\n",
        "for i in range(n):\n",
        "    if s[i]==\"a\":\n",
        "        count1+=1\n",
        "        i+=1\n",
        "    elif s[i]==\"e\":\n",
        "        count1+=1\n",
        "        i+=1\n",
        "    elif s[i]==\"i\":\n",
        "        count1+=1\n",
        "        i+=1\n",
        "    elif s[i]==\"o\":\n",
        "        count1+=1\n",
        "        i+=1\n",
        "    elif s[i]==\"u\":\n",
        "        count1+=1\n",
        "        i+=1\n",
        "    else:\n",
        "        count2+=1\n",
        "        i+=1\n",
        "print(\"the vowels are\",count1)\n",
        "print(\"the consonents are\",count2)\n"
      ],
      "metadata": {
        "colab": {
          "base_uri": "https://localhost:8080/"
        },
        "id": "_RHQL3yfreLs",
        "outputId": "1dafa4c8-7d76-43d6-f9fa-c68254cfca08"
      },
      "execution_count": 3,
      "outputs": [
        {
          "output_type": "stream",
          "name": "stdout",
          "text": [
            "Please Enter Your Own String: sant\n",
            "the vowels are 1\n",
            "the consonents are 3\n"
          ]
        }
      ]
    },
    {
      "cell_type": "code",
      "source": [
        "l1=[1,2,3,4,9,7,6]\n",
        "l2=[2,3,4,8,9]\n",
        "n=len(l1)\n",
        "m=len(l2)\n",
        "count=0\n",
        "for i in range(n):\n",
        "    for j in range(m):\n",
        "        if l1[i]==l2[j]:\n",
        "            count=count+1\n",
        "            j+=1\n",
        "    i+=1\n",
        "print(\"the number of elements common are\",count)"
      ],
      "metadata": {
        "colab": {
          "base_uri": "https://localhost:8080/"
        },
        "id": "ys3xvL7rux_N",
        "outputId": "71de0c4a-156a-4467-d789-137225ac29bd"
      },
      "execution_count": 4,
      "outputs": [
        {
          "output_type": "stream",
          "name": "stdout",
          "text": [
            "the number of elements common are 4\n"
          ]
        }
      ]
    },
    {
      "cell_type": "code",
      "source": [
        "def qn2(matrix1 , matrix2):\n",
        "\n",
        "  row1=len(matrix1)\n",
        "  col1=len(matrix1[0])\n",
        "  row2=len(matrix2)\n",
        "  col2=len(matrix2[0])\n",
        "\n",
        "  product=[]\n",
        "  for i in range(row1):\n",
        "    row=[]\n",
        "    for j in range(col2):\n",
        "      row.append(0)\n",
        "    product.append(row)\n",
        "\n",
        "  for i in range(row1):\n",
        "    for j in range(col2):\n",
        "      for k in range(col1):\n",
        "        product[i][j]=product[i][j]+(matrix1[i][k]*matrix2[k][j])\n",
        "  print(product)\n",
        "\n",
        "\n",
        "\n",
        "row1=int(input(\"enter number of rows of first matrix \\n\"))\n",
        "col1=int(input(\"enter number of columns of first matrix \\n\"))\n",
        "row2=int(input(\"enter number of rows of second matrix \\n\"))\n",
        "col2=int(input(\"enter number of columns of second matrix \\n\"))\n",
        "if row2==col1:\n",
        "\n",
        "  matrix1=[]\n",
        "  for i in range(row1):\n",
        "    row=[]\n",
        "    for j in range(col1):\n",
        "      row.append(int(input()))\n",
        "    matrix1.append(row)\n",
        "\n",
        "  matrix2=[]\n",
        "  for i in range(row2):\n",
        "    row=[]\n",
        "    for j in range(col2):\n",
        "      row.append(int(input()))\n",
        "    matrix2.append(row)\n",
        "  qn2(matrix1 , matrix2)\n",
        "else:\n",
        "    print(\"product not possible\")"
      ],
      "metadata": {
        "colab": {
          "base_uri": "https://localhost:8080/"
        },
        "id": "blS_om_E1sNf",
        "outputId": "2d505af4-c20d-4295-9d48-6d99d2eb320d"
      },
      "execution_count": 5,
      "outputs": [
        {
          "output_type": "stream",
          "name": "stdout",
          "text": [
            "enter number of rows of first matrix \n",
            "2\n",
            "enter number of columns of first matrix \n",
            "2\n",
            "enter number of rows of second matrix \n",
            "2\n",
            "enter number of columns of second matrix \n",
            "2\n",
            "1\n",
            "2\n",
            "3\n",
            "4\n",
            "5\n",
            "6\n",
            "8\n",
            "7\n",
            "[[21, 20], [47, 46]]\n"
          ]
        }
      ]
    },
    {
      "cell_type": "code",
      "source": [
        "def qn4(matrix):\n",
        "  rows=len(matrix)\n",
        "  cols=len(matrix[0])\n",
        "\n",
        "\n",
        "  transpose=[]\n",
        "  for i in range(cols):\n",
        "    row=[]\n",
        "    for j in range(rows):\n",
        "      row.append(matrix[j][i])\n",
        "    transpose.append(row)\n",
        "  print(transpose)\n",
        "\n",
        "rows=int(input(\"enter number of rows \\n\"))\n",
        "cols=int(input(\"enter number of columns \\n\"))\n",
        "matrix=[]\n",
        "for i in range(rows):\n",
        "  row=[]\n",
        "for j in range(cols):\n",
        "  row.append(int(input()))\n",
        "  matrix.append(row)\n",
        "qn4(matrix)"
      ],
      "metadata": {
        "colab": {
          "base_uri": "https://localhost:8080/"
        },
        "id": "sBaF_oYN7jd_",
        "outputId": "6f0dd679-abfd-44c5-aba0-f4d9d98dc976"
      },
      "execution_count": 7,
      "outputs": [
        {
          "output_type": "stream",
          "name": "stdout",
          "text": [
            "enter number of rows \n",
            "2\n",
            "enter number of columns \n",
            "2\n",
            "1\n",
            "2\n",
            "[[1, 1], [2, 2]]\n"
          ]
        }
      ]
    },
    {
      "cell_type": "code",
      "source": [],
      "metadata": {
        "id": "CPP4Kbrn74x1"
      },
      "execution_count": null,
      "outputs": []
    }
  ]
}