{
 "cells": [
  {
   "cell_type": "code",
   "execution_count": null,
   "id": "a9814277-1b01-4eab-b879-1a21150dcefb",
   "metadata": {},
   "outputs": [],
   "source": []
  }
 ],
 "metadata": {
  "kernelspec": {
   "display_name": "",
   "name": ""
  },
  "language_info": {
   "name": ""
  }
 },
 "nbformat": 4,
 "nbformat_minor": 5
}
