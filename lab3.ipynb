{
  "nbformat": 4,
  "nbformat_minor": 0,
  "metadata": {
    "colab": {
      "provenance": []
    },
    "kernelspec": {
      "name": "python3",
      "display_name": "Python 3"
    },
    "language_info": {
      "name": "python"
    }
  },
  "cells": [
    {
      "cell_type": "code",
      "execution_count": 9,
      "metadata": {
        "colab": {
          "base_uri": "https://localhost:8080/"
        },
        "id": "8YbqyjAj6-Of",
        "outputId": "5525d51b-232b-4da2-ff28-293e14f42996"
      },
      "outputs": [
        {
          "output_type": "stream",
          "name": "stdout",
          "text": [
            "Intraclass Spread (Variance) for the first few classes:\n",
            "                  0              1              2              3  \\\n",
            "LABEL                                                              \n",
            "3333   1.844611e+07   31939.979963   20732.312293  522963.449424   \n",
            "3334   5.384429e+07  143316.851309  156253.359996  956022.276138   \n",
            "\n",
            "                  4              5              6             7  \\\n",
            "LABEL                                                             \n",
            "3333   14847.543295  789544.671344   93991.309296  32272.174104   \n",
            "3334   17736.117569  748095.527624  588143.212369  61775.026106   \n",
            "\n",
            "                   8              9  ...            186            187  \\\n",
            "LABEL                                ...                                 \n",
            "3333    37724.694818   65326.911028  ...  145957.275654  153973.098335   \n",
            "3334   110481.939639  285807.015368  ...   45190.630428  250087.724326   \n",
            "\n",
            "                188           189            190           191            192  \\\n",
            "LABEL                                                                           \n",
            "3333   22272.812081  58690.230942   65346.366644  15135.861806  163813.117769   \n",
            "3334    9262.932337  62370.488567  104832.442836  13058.036310  117815.950681   \n",
            "\n",
            "                193            194            195  \n",
            "LABEL                                              \n",
            "3333   86694.945040  156265.299940  108598.985396  \n",
            "3334   42633.309181   29898.007734   49903.118517  \n",
            "\n",
            "[2 rows x 196 columns]\n",
            "\n",
            "Interclass Distance between class 3333 and class 3334: 4194.473313341158\n"
          ]
        }
      ],
      "source": [
        "import pandas as pd\n",
        "import numpy as np\n",
        "df = pd.read_csv('DCT_withoutduplicate 8.csv.csv')\n",
        "df=df.iloc[0:89,0:197]\n",
        "\n",
        "\n",
        "# Identify the unique classes in the LABEL column\n",
        "unique_classes = df['LABEL'].unique()\n",
        "\n",
        "# Calculate the mean (centroid) for each class\n",
        "class_means = df.groupby('LABEL').mean()\n",
        "\n",
        "# Calculate the intraclass spread (variance) for each class\n",
        "intraclass_spread = df.groupby('LABEL').var()\n",
        "\n",
        "# Select two classes to calculate the interclass distance (for example, class 3333 and 3334)\n",
        "class1 = 3333\n",
        "class2 = 3334\n",
        "\n",
        "# Calculate the Euclidean distance between the centroids of the two selected classes\n",
        "centroid1 = class_means.loc[class1]\n",
        "centroid2 = class_means.loc[class2]\n",
        "interclass_distance = np.linalg.norm(centroid1 - centroid2)\n",
        "\n",
        "# Print the results\n",
        "print(f\"Intraclass Spread (Variance) for the first few classes:\\n{intraclass_spread.head()}\")\n",
        "print(f\"\\nInterclass Distance between class {class1} and class {class2}: {interclass_distance}\")\n",
        "\n",
        "\n"
      ]
    }
  ]
}